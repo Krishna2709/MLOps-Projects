{
 "cells": [
  {
   "attachments": {},
   "cell_type": "markdown",
   "metadata": {},
   "source": [
    "#### 1. Load reqruired libraries"
   ]
  },
  {
   "cell_type": "code",
   "execution_count": 1,
   "metadata": {},
   "outputs": [],
   "source": [
    "import matplotlib.pyplot as plt\n",
    "import numpy as np\n",
    "import pandas as pd\n",
    "import scipy.stats as stats\n",
    "import seaborn as sns\n",
    "\n",
    "import wandb\n",
    "import params\n",
    "\n",
    "from feature_engine.encoding import OrdinalEncoder\n",
    "from sklearn.model_selection import StratifiedShuffleSplit\n",
    "\n",
    "import xgboost as xgb\n",
    "from sklearn.ensemble import RandomForestClassifier\n",
    "from sklearn.tree import DecisionTreeClassifier\n",
    "\n",
    "from sklearn.metrics import accuracy_score, confusion_matrix, classification_report\n",
    "\n",
    "import warnings\n",
    "warnings.filterwarnings('ignore')\n",
    "\n",
    "%matplotlib inline\n",
    "pd.pandas.set_option('display.max_columns', None)"
   ]
  },
  {
   "attachments": {},
   "cell_type": "markdown",
   "metadata": {},
   "source": [
    "#### 2. Load dataset"
   ]
  },
  {
   "cell_type": "code",
   "execution_count": 2,
   "metadata": {},
   "outputs": [
    {
     "name": "stdout",
     "output_type": "stream",
     "text": [
      "(12316, 32)\n"
     ]
    },
    {
     "data": {
      "text/html": [
       "<div>\n",
       "<style scoped>\n",
       "    .dataframe tbody tr th:only-of-type {\n",
       "        vertical-align: middle;\n",
       "    }\n",
       "\n",
       "    .dataframe tbody tr th {\n",
       "        vertical-align: top;\n",
       "    }\n",
       "\n",
       "    .dataframe thead th {\n",
       "        text-align: right;\n",
       "    }\n",
       "</style>\n",
       "<table border=\"1\" class=\"dataframe\">\n",
       "  <thead>\n",
       "    <tr style=\"text-align: right;\">\n",
       "      <th></th>\n",
       "      <th>Day_of_week</th>\n",
       "      <th>Age_band_of_driver</th>\n",
       "      <th>Sex_of_driver</th>\n",
       "      <th>Educational_level</th>\n",
       "      <th>Vehicle_driver_relation</th>\n",
       "      <th>Driving_experience</th>\n",
       "      <th>Type_of_vehicle</th>\n",
       "      <th>Owner_of_vehicle</th>\n",
       "      <th>Service_year_of_vehicle</th>\n",
       "      <th>Defect_of_vehicle</th>\n",
       "      <th>Area_accident_occured</th>\n",
       "      <th>Lanes_or_Medians</th>\n",
       "      <th>Road_allignment</th>\n",
       "      <th>Types_of_Junction</th>\n",
       "      <th>Road_surface_type</th>\n",
       "      <th>Road_surface_conditions</th>\n",
       "      <th>Light_conditions</th>\n",
       "      <th>Weather_conditions</th>\n",
       "      <th>Type_of_collision</th>\n",
       "      <th>Number_of_vehicles_involved</th>\n",
       "      <th>Number_of_casualties</th>\n",
       "      <th>Vehicle_movement</th>\n",
       "      <th>Casualty_class</th>\n",
       "      <th>Sex_of_casualty</th>\n",
       "      <th>Age_band_of_casualty</th>\n",
       "      <th>Casualty_severity</th>\n",
       "      <th>Work_of_casuality</th>\n",
       "      <th>Fitness_of_casuality</th>\n",
       "      <th>Pedestrian_movement</th>\n",
       "      <th>Cause_of_accident</th>\n",
       "      <th>Accident_severity</th>\n",
       "      <th>Hour</th>\n",
       "    </tr>\n",
       "  </thead>\n",
       "  <tbody>\n",
       "    <tr>\n",
       "      <th>0</th>\n",
       "      <td>0</td>\n",
       "      <td>0</td>\n",
       "      <td>0</td>\n",
       "      <td>0</td>\n",
       "      <td>0</td>\n",
       "      <td>0</td>\n",
       "      <td>0</td>\n",
       "      <td>0</td>\n",
       "      <td>0</td>\n",
       "      <td>0</td>\n",
       "      <td>0</td>\n",
       "      <td>0</td>\n",
       "      <td>0</td>\n",
       "      <td>0</td>\n",
       "      <td>0</td>\n",
       "      <td>0</td>\n",
       "      <td>0</td>\n",
       "      <td>0</td>\n",
       "      <td>0</td>\n",
       "      <td>2</td>\n",
       "      <td>2</td>\n",
       "      <td>0</td>\n",
       "      <td>0</td>\n",
       "      <td>0</td>\n",
       "      <td>0</td>\n",
       "      <td>0</td>\n",
       "      <td>0</td>\n",
       "      <td>0</td>\n",
       "      <td>0</td>\n",
       "      <td>0</td>\n",
       "      <td>Slight Injury</td>\n",
       "      <td>17</td>\n",
       "    </tr>\n",
       "    <tr>\n",
       "      <th>1</th>\n",
       "      <td>0</td>\n",
       "      <td>1</td>\n",
       "      <td>0</td>\n",
       "      <td>1</td>\n",
       "      <td>0</td>\n",
       "      <td>1</td>\n",
       "      <td>1</td>\n",
       "      <td>0</td>\n",
       "      <td>1</td>\n",
       "      <td>0</td>\n",
       "      <td>1</td>\n",
       "      <td>1</td>\n",
       "      <td>0</td>\n",
       "      <td>0</td>\n",
       "      <td>0</td>\n",
       "      <td>0</td>\n",
       "      <td>0</td>\n",
       "      <td>0</td>\n",
       "      <td>1</td>\n",
       "      <td>2</td>\n",
       "      <td>2</td>\n",
       "      <td>0</td>\n",
       "      <td>0</td>\n",
       "      <td>0</td>\n",
       "      <td>0</td>\n",
       "      <td>0</td>\n",
       "      <td>0</td>\n",
       "      <td>0</td>\n",
       "      <td>0</td>\n",
       "      <td>1</td>\n",
       "      <td>Slight Injury</td>\n",
       "      <td>17</td>\n",
       "    </tr>\n",
       "    <tr>\n",
       "      <th>2</th>\n",
       "      <td>0</td>\n",
       "      <td>0</td>\n",
       "      <td>0</td>\n",
       "      <td>1</td>\n",
       "      <td>0</td>\n",
       "      <td>0</td>\n",
       "      <td>2</td>\n",
       "      <td>0</td>\n",
       "      <td>2</td>\n",
       "      <td>0</td>\n",
       "      <td>2</td>\n",
       "      <td>2</td>\n",
       "      <td>1</td>\n",
       "      <td>0</td>\n",
       "      <td>0</td>\n",
       "      <td>0</td>\n",
       "      <td>0</td>\n",
       "      <td>0</td>\n",
       "      <td>2</td>\n",
       "      <td>2</td>\n",
       "      <td>2</td>\n",
       "      <td>0</td>\n",
       "      <td>1</td>\n",
       "      <td>1</td>\n",
       "      <td>1</td>\n",
       "      <td>1</td>\n",
       "      <td>1</td>\n",
       "      <td>0</td>\n",
       "      <td>0</td>\n",
       "      <td>2</td>\n",
       "      <td>Serious Injury</td>\n",
       "      <td>17</td>\n",
       "    </tr>\n",
       "    <tr>\n",
       "      <th>3</th>\n",
       "      <td>1</td>\n",
       "      <td>0</td>\n",
       "      <td>0</td>\n",
       "      <td>1</td>\n",
       "      <td>0</td>\n",
       "      <td>2</td>\n",
       "      <td>1</td>\n",
       "      <td>1</td>\n",
       "      <td>2</td>\n",
       "      <td>0</td>\n",
       "      <td>1</td>\n",
       "      <td>2</td>\n",
       "      <td>2</td>\n",
       "      <td>1</td>\n",
       "      <td>1</td>\n",
       "      <td>0</td>\n",
       "      <td>1</td>\n",
       "      <td>0</td>\n",
       "      <td>1</td>\n",
       "      <td>2</td>\n",
       "      <td>2</td>\n",
       "      <td>0</td>\n",
       "      <td>2</td>\n",
       "      <td>2</td>\n",
       "      <td>2</td>\n",
       "      <td>1</td>\n",
       "      <td>1</td>\n",
       "      <td>1</td>\n",
       "      <td>0</td>\n",
       "      <td>3</td>\n",
       "      <td>Slight Injury</td>\n",
       "      <td>1</td>\n",
       "    </tr>\n",
       "    <tr>\n",
       "      <th>4</th>\n",
       "      <td>1</td>\n",
       "      <td>0</td>\n",
       "      <td>0</td>\n",
       "      <td>1</td>\n",
       "      <td>0</td>\n",
       "      <td>3</td>\n",
       "      <td>3</td>\n",
       "      <td>0</td>\n",
       "      <td>1</td>\n",
       "      <td>0</td>\n",
       "      <td>3</td>\n",
       "      <td>2</td>\n",
       "      <td>0</td>\n",
       "      <td>1</td>\n",
       "      <td>0</td>\n",
       "      <td>0</td>\n",
       "      <td>1</td>\n",
       "      <td>0</td>\n",
       "      <td>1</td>\n",
       "      <td>2</td>\n",
       "      <td>2</td>\n",
       "      <td>0</td>\n",
       "      <td>0</td>\n",
       "      <td>0</td>\n",
       "      <td>0</td>\n",
       "      <td>0</td>\n",
       "      <td>0</td>\n",
       "      <td>0</td>\n",
       "      <td>0</td>\n",
       "      <td>1</td>\n",
       "      <td>Slight Injury</td>\n",
       "      <td>1</td>\n",
       "    </tr>\n",
       "  </tbody>\n",
       "</table>\n",
       "</div>"
      ],
      "text/plain": [
       "   Day_of_week  Age_band_of_driver  Sex_of_driver  Educational_level   \n",
       "0            0                   0              0                  0  \\\n",
       "1            0                   1              0                  1   \n",
       "2            0                   0              0                  1   \n",
       "3            1                   0              0                  1   \n",
       "4            1                   0              0                  1   \n",
       "\n",
       "   Vehicle_driver_relation  Driving_experience  Type_of_vehicle   \n",
       "0                        0                   0                0  \\\n",
       "1                        0                   1                1   \n",
       "2                        0                   0                2   \n",
       "3                        0                   2                1   \n",
       "4                        0                   3                3   \n",
       "\n",
       "   Owner_of_vehicle  Service_year_of_vehicle  Defect_of_vehicle   \n",
       "0                 0                        0                  0  \\\n",
       "1                 0                        1                  0   \n",
       "2                 0                        2                  0   \n",
       "3                 1                        2                  0   \n",
       "4                 0                        1                  0   \n",
       "\n",
       "   Area_accident_occured  Lanes_or_Medians  Road_allignment   \n",
       "0                      0                 0                0  \\\n",
       "1                      1                 1                0   \n",
       "2                      2                 2                1   \n",
       "3                      1                 2                2   \n",
       "4                      3                 2                0   \n",
       "\n",
       "   Types_of_Junction  Road_surface_type  Road_surface_conditions   \n",
       "0                  0                  0                        0  \\\n",
       "1                  0                  0                        0   \n",
       "2                  0                  0                        0   \n",
       "3                  1                  1                        0   \n",
       "4                  1                  0                        0   \n",
       "\n",
       "   Light_conditions  Weather_conditions  Type_of_collision   \n",
       "0                 0                   0                  0  \\\n",
       "1                 0                   0                  1   \n",
       "2                 0                   0                  2   \n",
       "3                 1                   0                  1   \n",
       "4                 1                   0                  1   \n",
       "\n",
       "   Number_of_vehicles_involved  Number_of_casualties  Vehicle_movement   \n",
       "0                            2                     2                 0  \\\n",
       "1                            2                     2                 0   \n",
       "2                            2                     2                 0   \n",
       "3                            2                     2                 0   \n",
       "4                            2                     2                 0   \n",
       "\n",
       "   Casualty_class  Sex_of_casualty  Age_band_of_casualty  Casualty_severity   \n",
       "0               0                0                     0                  0  \\\n",
       "1               0                0                     0                  0   \n",
       "2               1                1                     1                  1   \n",
       "3               2                2                     2                  1   \n",
       "4               0                0                     0                  0   \n",
       "\n",
       "   Work_of_casuality  Fitness_of_casuality  Pedestrian_movement   \n",
       "0                  0                     0                    0  \\\n",
       "1                  0                     0                    0   \n",
       "2                  1                     0                    0   \n",
       "3                  1                     1                    0   \n",
       "4                  0                     0                    0   \n",
       "\n",
       "   Cause_of_accident Accident_severity  Hour  \n",
       "0                  0     Slight Injury    17  \n",
       "1                  1     Slight Injury    17  \n",
       "2                  2    Serious Injury    17  \n",
       "3                  3     Slight Injury     1  \n",
       "4                  1     Slight Injury     1  "
      ]
     },
     "execution_count": 2,
     "metadata": {},
     "output_type": "execute_result"
    }
   ],
   "source": [
    "raw_rta_data = pd.read_csv('data/RTA Dataset.csv')\n",
    "rta_data = pd.read_csv('data/RTA Dataset Transformed.csv')\n",
    "print(rta_data.shape)\n",
    "rta_data.head()"
   ]
  },
  {
   "cell_type": "code",
   "execution_count": 3,
   "metadata": {},
   "outputs": [
    {
     "name": "stderr",
     "output_type": "stream",
     "text": [
      "Failed to detect the name of this notebook, you can set it manually with the WANDB_NOTEBOOK_NAME environment variable to enable code saving.\n",
      "\u001b[34m\u001b[1mwandb\u001b[0m: Currently logged in as: \u001b[33mkrishnatasya\u001b[0m (\u001b[33mblack-order\u001b[0m). Use \u001b[1m`wandb login --relogin`\u001b[0m to force relogin\n"
     ]
    },
    {
     "data": {
      "text/html": [
       "wandb version 0.15.3 is available!  To upgrade, please run:\n",
       " $ pip install wandb --upgrade"
      ],
      "text/plain": [
       "<IPython.core.display.HTML object>"
      ]
     },
     "metadata": {},
     "output_type": "display_data"
    },
    {
     "data": {
      "text/html": [
       "Tracking run with wandb version 0.15.2"
      ],
      "text/plain": [
       "<IPython.core.display.HTML object>"
      ]
     },
     "metadata": {},
     "output_type": "display_data"
    },
    {
     "data": {
      "text/html": [
       "Run data is saved locally in <code>c:\\Users\\krish\\Documents\\Projects\\TMLC\\AccidentSeverity\\wandb\\run-20230517_210911-c6arcm1s</code>"
      ],
      "text/plain": [
       "<IPython.core.display.HTML object>"
      ]
     },
     "metadata": {},
     "output_type": "display_data"
    },
    {
     "data": {
      "text/html": [
       "Syncing run <strong><a href='https://wandb.ai/black-order/accident-severity-prediction/runs/c6arcm1s' target=\"_blank\">lucky-haze-7</a></strong> to <a href='https://wandb.ai/black-order/accident-severity-prediction' target=\"_blank\">Weights & Biases</a> (<a href='https://wandb.me/run' target=\"_blank\">docs</a>)<br/>"
      ],
      "text/plain": [
       "<IPython.core.display.HTML object>"
      ]
     },
     "metadata": {},
     "output_type": "display_data"
    },
    {
     "data": {
      "text/html": [
       " View project at <a href='https://wandb.ai/black-order/accident-severity-prediction' target=\"_blank\">https://wandb.ai/black-order/accident-severity-prediction</a>"
      ],
      "text/plain": [
       "<IPython.core.display.HTML object>"
      ]
     },
     "metadata": {},
     "output_type": "display_data"
    },
    {
     "data": {
      "text/html": [
       " View run at <a href='https://wandb.ai/black-order/accident-severity-prediction/runs/c6arcm1s' target=\"_blank\">https://wandb.ai/black-order/accident-severity-prediction/runs/c6arcm1s</a>"
      ],
      "text/plain": [
       "<IPython.core.display.HTML object>"
      ]
     },
     "metadata": {},
     "output_type": "display_data"
    }
   ],
   "source": [
    "# WANDB RUN\n",
    "run = wandb.init(project=params.WANDB_PROJECT, entity=params.ENTITY, job_type=\"training\")"
   ]
  },
  {
   "cell_type": "code",
   "execution_count": 4,
   "metadata": {},
   "outputs": [
    {
     "data": {
      "text/plain": [
       "ArtifactManifestEntry(path='transformed_data.table.json', digest='V7euZRuWFwhqRh1vx3MjJw==', ref=None, birth_artifact_id=None, size=1402448, extra={}, local_path='C:\\\\Users\\\\krish\\\\AppData\\\\Local\\\\wandb\\\\wandb\\\\artifacts\\\\staging\\\\tmpyhzroqhu')"
      ]
     },
     "execution_count": 4,
     "metadata": {},
     "output_type": "execute_result"
    }
   ],
   "source": [
    "# CREATE AN ARTIFACT\n",
    "raw_data_at = wandb.Artifact(params.RAW_DATA_AT, type='raw_data')\n",
    "raw_data_at.add(wandb.Table(dataframe=raw_rta_data), 'raw_data')\n",
    "\n",
    "transformed_data_at = wandb.Artifact(params.TRANSFORMED_DATA_AT, type='transformed_data')\n",
    "transformed_data_at.add(wandb.Table(dataframe=rta_data), 'transformed_data')"
   ]
  },
  {
   "attachments": {},
   "cell_type": "markdown",
   "metadata": {},
   "source": [
    "#### 3. Encoding the target variable"
   ]
  },
  {
   "cell_type": "code",
   "execution_count": 5,
   "metadata": {},
   "outputs": [],
   "source": [
    "target_encoder = OrdinalEncoder(encoding_method='arbitrary', variables='Accident_severity')\n",
    "rta_data = target_encoder.fit_transform(rta_data)\n",
    "\n",
    "X = rta_data.drop('Accident_severity', axis=1).values\n",
    "y = rta_data['Accident_severity'].values"
   ]
  },
  {
   "attachments": {},
   "cell_type": "markdown",
   "metadata": {},
   "source": [
    "#### 4. Splitting the dataset into train, valid and test sets"
   ]
  },
  {
   "cell_type": "code",
   "execution_count": 6,
   "metadata": {},
   "outputs": [
    {
     "name": "stdout",
     "output_type": "stream",
     "text": [
      "X_train: (9852, 31), y_train: (9852,)\n",
      "X_valid: (1232, 31), y_valid: (1232,)\n",
      "X_test: (1232, 31), y_test: (1232,)\n"
     ]
    }
   ],
   "source": [
    "# Initialize the StratifiedShuffleSplit object\n",
    "sss = StratifiedShuffleSplit(n_splits=1, test_size=0.2, random_state=42)\n",
    "\n",
    "# Split for train and temp (which will be further divided into validation and test)\n",
    "for train_index, temp_index in sss.split(X, y):\n",
    "    X_train, X_temp = X[train_index], X[temp_index]\n",
    "    y_train, y_temp = y[train_index], y[temp_index]\n",
    "\n",
    "# Now split the temp data into validation and test sets\n",
    "sss_valid_test = StratifiedShuffleSplit(n_splits=1, test_size=0.5, random_state=42)\n",
    "\n",
    "for valid_index, test_index in sss_valid_test.split(X_temp, y_temp):\n",
    "    X_valid, X_test = X_temp[valid_index], X_temp[test_index]\n",
    "    y_valid, y_test = y_temp[valid_index], y_temp[test_index]\n",
    "\n",
    "\n",
    "print(f\"X_train: {X_train.shape}, y_train: {y_train.shape}\")\n",
    "print(f\"X_valid: {X_valid.shape}, y_valid: {y_valid.shape}\")\n",
    "print(f\"X_test: {X_test.shape}, y_test: {y_test.shape}\")"
   ]
  },
  {
   "attachments": {},
   "cell_type": "markdown",
   "metadata": {},
   "source": [
    "#### 5. Model Building"
   ]
  },
  {
   "attachments": {},
   "cell_type": "markdown",
   "metadata": {},
   "source": [
    "##### 5.1 Decision Tree Classifier"
   ]
  },
  {
   "cell_type": "code",
   "execution_count": 7,
   "metadata": {},
   "outputs": [
    {
     "name": "stdout",
     "output_type": "stream",
     "text": [
      "Accuracy: 0.8457792207792207\n",
      "Confusion Matrix: \n",
      "[[1039    3    0]\n",
      " [ 171    3    0]\n",
      " [  16    0    0]]\n"
     ]
    }
   ],
   "source": [
    "decision_tree = DecisionTreeClassifier(random_state=2022, max_depth=2)\n",
    "decision_tree = decision_tree.fit(X_train, y_train)\n",
    "decision_tree_predictions = decision_tree.predict(X_valid)\n",
    "\n",
    "decision_tree_report = classification_report(y_valid, decision_tree_predictions, output_dict=True)\n",
    "\n",
    "print(f\"Accuracy: {accuracy_score(y_valid, decision_tree_predictions)}\")\n",
    "print(f\"Confusion Matrix: \\n{confusion_matrix(y_valid, decision_tree_predictions)}\")"
   ]
  },
  {
   "cell_type": "code",
   "execution_count": 8,
   "metadata": {},
   "outputs": [
    {
     "name": "stdout",
     "output_type": "stream",
     "text": [
      "Accuracy: 0.849025974025974\n",
      "Confusion Matrix: \n",
      "[[1042    0    0]\n",
      " [ 171    4    0]\n",
      " [  15    0    0]]\n"
     ]
    }
   ],
   "source": [
    "decision_tree_predictions_test = decision_tree.predict(X_test)\n",
    "decision_tree_report_test = classification_report(y_test, decision_tree_predictions_test, output_dict=True)\n",
    "\n",
    "print(f\"Accuracy: {accuracy_score(y_test, decision_tree_predictions_test)}\")\n",
    "print(f\"Confusion Matrix: \\n{confusion_matrix(y_test, decision_tree_predictions_test)}\")"
   ]
  },
  {
   "attachments": {},
   "cell_type": "markdown",
   "metadata": {},
   "source": [
    "##### 5.2 Random Forest Classifier"
   ]
  },
  {
   "cell_type": "code",
   "execution_count": 9,
   "metadata": {},
   "outputs": [
    {
     "name": "stdout",
     "output_type": "stream",
     "text": [
      "Accuracy: 0.8457792207792207\n",
      "Confusion Matrix: \n",
      "[[1042    0    0]\n",
      " [ 174    0    0]\n",
      " [  16    0    0]]\n"
     ]
    }
   ],
   "source": [
    "random_forest = RandomForestClassifier(random_state=2022, max_depth=2)\n",
    "random_forest = random_forest.fit(X_train, y_train)\n",
    "random_forest_predictions = random_forest.predict(X_valid)\n",
    "\n",
    "random_forest_report = classification_report(y_valid, random_forest_predictions, output_dict=True)\n",
    "\n",
    "print(f\"Accuracy: {accuracy_score(y_valid, random_forest_predictions)}\")\n",
    "print(f\"Confusion Matrix: \\n{confusion_matrix(y_valid, random_forest_predictions)}\")"
   ]
  },
  {
   "cell_type": "code",
   "execution_count": 10,
   "metadata": {},
   "outputs": [
    {
     "name": "stdout",
     "output_type": "stream",
     "text": [
      "Accuracy: 0.8457792207792207\n",
      "Confusion Matrix: \n",
      "[[1042    0    0]\n",
      " [ 175    0    0]\n",
      " [  15    0    0]]\n"
     ]
    }
   ],
   "source": [
    "random_forest_predictions_test = random_forest.predict(X_test)\n",
    "random_forest_report_test = classification_report(y_test, random_forest_predictions_test, output_dict=True)\n",
    "\n",
    "print(f\"Accuracy: {accuracy_score(y_test, random_forest_predictions_test)}\")\n",
    "print(f\"Confusion Matrix: \\n{confusion_matrix(y_test, random_forest_predictions_test)}\")"
   ]
  },
  {
   "attachments": {},
   "cell_type": "markdown",
   "metadata": {},
   "source": [
    "##### 5.3 XGBoost Classifier"
   ]
  },
  {
   "cell_type": "code",
   "execution_count": 11,
   "metadata": {},
   "outputs": [
    {
     "name": "stdout",
     "output_type": "stream",
     "text": [
      "Accuracy: 0.8474025974025974\n",
      "Confusion Matrix: \n",
      "[[1037    5    0]\n",
      " [ 167    7    0]\n",
      " [  16    0    0]]\n"
     ]
    }
   ],
   "source": [
    "xgboost = xgb.XGBClassifier(random_state=2022, max_depth=2)\n",
    "xgboost = xgboost.fit(X_train, y_train)\n",
    "xgboost_predictions = xgboost.predict(X_valid)\n",
    "\n",
    "xgboost_report = classification_report(y_valid, xgboost_predictions, output_dict=True)\n",
    "\n",
    "print(f\"Accuracy: {accuracy_score(y_valid, xgboost_predictions)}\")\n",
    "print(f\"Confusion Matrix: \\n{confusion_matrix(y_valid, xgboost_predictions)}\")"
   ]
  },
  {
   "cell_type": "code",
   "execution_count": 12,
   "metadata": {},
   "outputs": [
    {
     "name": "stdout",
     "output_type": "stream",
     "text": [
      "Accuracy: 0.851461038961039\n",
      "Confusion Matrix: \n",
      "[[1042    0    0]\n",
      " [ 168    7    0]\n",
      " [  15    0    0]]\n"
     ]
    }
   ],
   "source": [
    "xgboost_predictions_test = xgboost.predict(X_test)\n",
    "xgboost_report_test = classification_report(y_test, xgboost_predictions_test, output_dict=True)\n",
    "\n",
    "print(f\"Accuracy: {accuracy_score(y_test, xgboost_predictions_test)}\")\n",
    "print(f\"Confusion Matrix: \\n{confusion_matrix(y_test, xgboost_predictions_test)}\")"
   ]
  },
  {
   "cell_type": "code",
   "execution_count": 13,
   "metadata": {},
   "outputs": [
    {
     "data": {
      "text/html": [
       "Waiting for W&B process to finish... <strong style=\"color:green\">(success).</strong>"
      ],
      "text/plain": [
       "<IPython.core.display.HTML object>"
      ]
     },
     "metadata": {},
     "output_type": "display_data"
    },
    {
     "data": {
      "text/html": [
       "<style>\n",
       "    table.wandb td:nth-child(1) { padding: 0 10px; text-align: left ; width: auto;} td:nth-child(2) {text-align: left ; width: 100%}\n",
       "    .wandb-row { display: flex; flex-direction: row; flex-wrap: wrap; justify-content: flex-start; width: 100% }\n",
       "    .wandb-col { display: flex; flex-direction: column; flex-basis: 100%; flex: 1; padding: 10px; }\n",
       "    </style>\n",
       "<div class=\"wandb-row\"><div class=\"wandb-col\"><h3>Run history:</h3><br/><table class=\"wandb\"><tr><td>decision_tree_accuracy</td><td>▁</td></tr><tr><td>decision_tree_accuracy_test</td><td>▁</td></tr><tr><td>decision_tree_f1</td><td>▁</td></tr><tr><td>decision_tree_f1_test</td><td>▁</td></tr><tr><td>decision_tree_precision</td><td>▁</td></tr><tr><td>decision_tree_precision_test</td><td>▁</td></tr><tr><td>decision_tree_recall</td><td>▁</td></tr><tr><td>decision_tree_recall_test</td><td>▁</td></tr><tr><td>random_forest_accuracy</td><td>▁</td></tr><tr><td>random_forest_accuracy_test</td><td>▁</td></tr><tr><td>random_forest_f1</td><td>▁</td></tr><tr><td>random_forest_f1_test</td><td>▁</td></tr><tr><td>random_forest_precision</td><td>▁</td></tr><tr><td>random_forest_precision_test</td><td>▁</td></tr><tr><td>random_forest_recall</td><td>▁</td></tr><tr><td>random_forest_recall_test</td><td>▁</td></tr><tr><td>xgboost_accuracy</td><td>▁</td></tr><tr><td>xgboost_accuracy_test</td><td>▁</td></tr><tr><td>xgboost_f1</td><td>▁</td></tr><tr><td>xgboost_f1_test</td><td>▁</td></tr><tr><td>xgboost_precision</td><td>▁</td></tr><tr><td>xgboost_precision_test</td><td>▁</td></tr><tr><td>xgboost_recall</td><td>▁</td></tr><tr><td>xgboost_recall_test</td><td>▁</td></tr></table><br/></div><div class=\"wandb-col\"><h3>Run summary:</h3><br/><table class=\"wandb\"><tr><td>decision_tree_accuracy</td><td>0.84578</td></tr><tr><td>decision_tree_accuracy_test</td><td>0.84903</td></tr><tr><td>decision_tree_f1</td><td>0.31652</td></tr><tr><td>decision_tree_f1_test</td><td>0.32092</td></tr><tr><td>decision_tree_precision</td><td>0.44916</td></tr><tr><td>decision_tree_precision_test</td><td>0.61618</td></tr><tr><td>decision_tree_recall</td><td>0.33812</td></tr><tr><td>decision_tree_recall_test</td><td>0.34095</td></tr><tr><td>random_forest_accuracy</td><td>0.84578</td></tr><tr><td>random_forest_accuracy_test</td><td>0.84578</td></tr><tr><td>random_forest_f1</td><td>0.30548</td></tr><tr><td>random_forest_f1_test</td><td>0.30548</td></tr><tr><td>random_forest_precision</td><td>0.28193</td></tr><tr><td>random_forest_precision_test</td><td>0.28193</td></tr><tr><td>random_forest_recall</td><td>0.33333</td></tr><tr><td>random_forest_recall_test</td><td>0.33333</td></tr><tr><td>xgboost_accuracy</td><td>0.8474</td></tr><tr><td>xgboost_accuracy_test</td><td>0.85146</td></tr><tr><td>xgboost_f1</td><td>0.33072</td></tr><tr><td>xgboost_f1_test</td><td>0.33207</td></tr><tr><td>xgboost_precision</td><td>0.47778</td></tr><tr><td>xgboost_precision_test</td><td>0.61687</td></tr><tr><td>xgboost_recall</td><td>0.34514</td></tr><tr><td>xgboost_recall_test</td><td>0.34667</td></tr></table><br/></div></div>"
      ],
      "text/plain": [
       "<IPython.core.display.HTML object>"
      ]
     },
     "metadata": {},
     "output_type": "display_data"
    },
    {
     "data": {
      "text/html": [
       " View run <strong style=\"color:#cdcd00\">lucky-haze-7</strong> at: <a href='https://wandb.ai/black-order/accident-severity-prediction/runs/c6arcm1s' target=\"_blank\">https://wandb.ai/black-order/accident-severity-prediction/runs/c6arcm1s</a><br/>Synced 6 W&B file(s), 0 media file(s), 2 artifact file(s) and 0 other file(s)"
      ],
      "text/plain": [
       "<IPython.core.display.HTML object>"
      ]
     },
     "metadata": {},
     "output_type": "display_data"
    },
    {
     "data": {
      "text/html": [
       "Find logs at: <code>.\\wandb\\run-20230517_210911-c6arcm1s\\logs</code>"
      ],
      "text/plain": [
       "<IPython.core.display.HTML object>"
      ]
     },
     "metadata": {},
     "output_type": "display_data"
    }
   ],
   "source": [
    "# Log the artifacts\n",
    "run.log_artifact(raw_data_at)\n",
    "run.log_artifact(transformed_data_at)\n",
    "\n",
    "# Log the metrics\n",
    "run.log({\"decision_tree_accuracy\": decision_tree_report['accuracy'],\n",
    "            \"decision_tree_precision\": decision_tree_report['macro avg']['precision'],\n",
    "            \"decision_tree_recall\": decision_tree_report['macro avg']['recall'],\n",
    "            \"decision_tree_f1\": decision_tree_report['macro avg']['f1-score'],\n",
    "            \"random_forest_accuracy\": random_forest_report['accuracy'],\n",
    "            \"random_forest_precision\": random_forest_report['macro avg']['precision'],\n",
    "            \"random_forest_recall\": random_forest_report['macro avg']['recall'],\n",
    "            \"random_forest_f1\": random_forest_report['macro avg']['f1-score'],\n",
    "            \"xgboost_accuracy\": xgboost_report['accuracy'],\n",
    "            \"xgboost_precision\": xgboost_report['macro avg']['precision'],\n",
    "            \"xgboost_recall\": xgboost_report['macro avg']['recall'],\n",
    "            \"xgboost_f1\": xgboost_report['macro avg']['f1-score']\n",
    "})\n",
    "\n",
    "run.log({\"decision_tree_accuracy_test\": decision_tree_report_test['accuracy'],\n",
    "            \"decision_tree_precision_test\": decision_tree_report_test['macro avg']['precision'],\n",
    "            \"decision_tree_recall_test\": decision_tree_report_test['macro avg']['recall'],\n",
    "            \"decision_tree_f1_test\": decision_tree_report_test['macro avg']['f1-score'],\n",
    "            \"random_forest_accuracy_test\": random_forest_report_test['accuracy'],\n",
    "            \"random_forest_precision_test\": random_forest_report_test['macro avg']['precision'],\n",
    "            \"random_forest_recall_test\": random_forest_report_test['macro avg']['recall'],\n",
    "            \"random_forest_f1_test\": random_forest_report_test['macro avg']['f1-score'],\n",
    "            \"xgboost_accuracy_test\": xgboost_report_test['accuracy'],\n",
    "            \"xgboost_precision_test\": xgboost_report_test['macro avg']['precision'],\n",
    "            \"xgboost_recall_test\": xgboost_report_test['macro avg']['recall'],\n",
    "            \"xgboost_f1_test\": xgboost_report_test['macro avg']['f1-score']\n",
    "})\n",
    "\n",
    "run.finish()"
   ]
  }
 ],
 "metadata": {
  "kernelspec": {
   "display_name": "opts",
   "language": "python",
   "name": "python3"
  },
  "language_info": {
   "codemirror_mode": {
    "name": "ipython",
    "version": 3
   },
   "file_extension": ".py",
   "mimetype": "text/x-python",
   "name": "python",
   "nbconvert_exporter": "python",
   "pygments_lexer": "ipython3",
   "version": "3.10.9"
  },
  "orig_nbformat": 4
 },
 "nbformat": 4,
 "nbformat_minor": 2
}
